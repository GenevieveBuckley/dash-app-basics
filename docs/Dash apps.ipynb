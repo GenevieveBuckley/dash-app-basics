{
 "cells": [
  {
   "cell_type": "markdown",
   "metadata": {},
   "source": [
    "# Dash app basics\n",
    "\n",
    "## What is dash?\n",
    "[Dash](https://dash.plot.ly/)\n",
    "is a python framework for building simple web apps.\n",
    "\n",
    "It combines:\n",
    "\n",
    "* [Plotly](https://plot.ly/) for interactive graphs\n",
    "* [Flask](http://flask.pocoo.org/) for the web framework\n",
    "* [React](https://reactjs.org/) for the javascript user interface\n",
    "\n",
    "We'll take a bare bones look at an example Python Dash app today."
   ]
  },
  {
   "cell_type": "markdown",
   "metadata": {},
   "source": [
    "First, set up your environment:\n",
    "\n",
    "`conda env create -f environment.yml`\n",
    "\n",
    "See [creating conda environments from an environment.rml file](https://conda.io/docs/user-guide/tasks/manage-environments.html#creating-an-environment-from-an-environment-yml-file). There's an example environment.yml file available [here](https://github.com/pyladiesmelbourne/dash-app-basics/blob/master/environment.yml)"
   ]
  },
  {
   "cell_type": "markdown",
   "metadata": {},
   "source": [
    "## The Gapminder dataset\n",
    "The dataset used here is based on free material from\n",
    "[GAPMINDER.ORG](https://www.gapminder.org/data/), CC-BY LICENSE."
   ]
  },
  {
   "cell_type": "code",
   "execution_count": 6,
   "metadata": {
    "collapsed": false
   },
   "outputs": [
    {
     "data": {
      "text/html": [
       "<div>\n",
       "<style scoped>\n",
       "    .dataframe tbody tr th:only-of-type {\n",
       "        vertical-align: middle;\n",
       "    }\n",
       "\n",
       "    .dataframe tbody tr th {\n",
       "        vertical-align: top;\n",
       "    }\n",
       "\n",
       "    .dataframe thead th {\n",
       "        text-align: right;\n",
       "    }\n",
       "</style>\n",
       "<table border=\"1\" class=\"dataframe\">\n",
       "  <thead>\n",
       "    <tr style=\"text-align: right;\">\n",
       "      <th></th>\n",
       "      <th>country</th>\n",
       "      <th>year</th>\n",
       "      <th>population</th>\n",
       "      <th>continent</th>\n",
       "      <th>life_expectancy</th>\n",
       "      <th>GDP_per_capita</th>\n",
       "    </tr>\n",
       "  </thead>\n",
       "  <tbody>\n",
       "    <tr>\n",
       "      <th>554</th>\n",
       "      <td>Gambia</td>\n",
       "      <td>1962</td>\n",
       "      <td>374020.0</td>\n",
       "      <td>Africa</td>\n",
       "      <td>33.896</td>\n",
       "      <td>599.650276</td>\n",
       "    </tr>\n",
       "    <tr>\n",
       "      <th>55</th>\n",
       "      <td>Argentina</td>\n",
       "      <td>1987</td>\n",
       "      <td>31620918.0</td>\n",
       "      <td>Americas</td>\n",
       "      <td>70.774</td>\n",
       "      <td>9139.671389</td>\n",
       "    </tr>\n",
       "    <tr>\n",
       "      <th>255</th>\n",
       "      <td>Central African Republic</td>\n",
       "      <td>1967</td>\n",
       "      <td>1733638.0</td>\n",
       "      <td>Africa</td>\n",
       "      <td>41.478</td>\n",
       "      <td>1136.056615</td>\n",
       "    </tr>\n",
       "    <tr>\n",
       "      <th>715</th>\n",
       "      <td>Indonesia</td>\n",
       "      <td>1987</td>\n",
       "      <td>169276000.0</td>\n",
       "      <td>Asia</td>\n",
       "      <td>60.137</td>\n",
       "      <td>1748.356961</td>\n",
       "    </tr>\n",
       "    <tr>\n",
       "      <th>1422</th>\n",
       "      <td>Spain</td>\n",
       "      <td>1982</td>\n",
       "      <td>37983310.0</td>\n",
       "      <td>Europe</td>\n",
       "      <td>76.300</td>\n",
       "      <td>13926.169970</td>\n",
       "    </tr>\n",
       "  </tbody>\n",
       "</table>\n",
       "</div>"
      ],
      "text/plain": [
       "                       country  year   population continent  life_expectancy  \\\n",
       "554                     Gambia  1962     374020.0    Africa           33.896   \n",
       "55                   Argentina  1987   31620918.0  Americas           70.774   \n",
       "255   Central African Republic  1967    1733638.0    Africa           41.478   \n",
       "715                  Indonesia  1987  169276000.0      Asia           60.137   \n",
       "1422                     Spain  1982   37983310.0    Europe           76.300   \n",
       "\n",
       "      GDP_per_capita  \n",
       "554       599.650276  \n",
       "55       9139.671389  \n",
       "255      1136.056615  \n",
       "715      1748.356961  \n",
       "1422    13926.169970  "
      ]
     },
     "execution_count": 6,
     "metadata": {},
     "output_type": "execute_result"
    }
   ],
   "source": [
    "import pandas as pd\n",
    "url = \"https://raw.githubusercontent.com/plotly/datasets/master/gapminderDataFiveYear.csv\"\n",
    "df = pd.read_csv(url)\n",
    "df = df.rename(index=str, columns={\"pop\": \"population\",\n",
    "                                   \"lifeExp\": \"life_expectancy\",\n",
    "                                   \"gdpPercap\": \"GDP_per_capita\"})\n",
    "df.sample(5)"
   ]
  },
  {
   "cell_type": "markdown",
   "metadata": {},
   "source": [
    "## Graphing with Plotly\n",
    "[https://plot.ly/python/getting-started/](https://plot.ly/python/getting-started/)\n",
    "\n",
    "Plotly graphs have a ton of built in interactive features you can use.\n",
    "Here's the 'Hello World' of a basic line chart. "
   ]
  },
  {
   "cell_type": "code",
   "execution_count": 8,
   "metadata": {
    "collapsed": false
   },
   "outputs": [
    {
     "data": {
      "text/html": [
       "<script>requirejs.config({paths: { 'plotly': ['https://cdn.plot.ly/plotly-latest.min']},});if(!window.Plotly) {{require(['plotly'],function(plotly) {window.Plotly=plotly;});}}</script>"
      ],
      "text/vnd.plotly.v1+html": [
       "<script>requirejs.config({paths: { 'plotly': ['https://cdn.plot.ly/plotly-latest.min']},});if(!window.Plotly) {{require(['plotly'],function(plotly) {window.Plotly=plotly;});}}</script>"
      ]
     },
     "metadata": {},
     "output_type": "display_data"
    }
   ],
   "source": [
    "import plotly\n",
    "import plotly.graph_objs as go\n",
    "plotly.offline.init_notebook_mode(connected=True)"
   ]
  },
  {
   "cell_type": "code",
   "execution_count": 9,
   "metadata": {
    "collapsed": false
   },
   "outputs": [
    {
     "data": {
      "application/vnd.plotly.v1+json": {
       "data": [
        {
         "type": "scatter",
         "x": [
          1,
          2,
          3,
          4
         ],
         "y": [
          4,
          3,
          2,
          1
         ]
        }
       ],
       "layout": {
        "title": "hello world"
       }
      },
      "text/html": [
       "<div id=\"c28f6b81-8e41-4349-9498-7ca1c6b84ff8\" style=\"height: 525px; width: 100%;\" class=\"plotly-graph-div\"></div><script type=\"text/javascript\">require([\"plotly\"], function(Plotly) { window.PLOTLYENV=window.PLOTLYENV || {};window.PLOTLYENV.BASE_URL=\"https://plot.ly\";Plotly.newPlot(\"c28f6b81-8e41-4349-9498-7ca1c6b84ff8\", [{\"type\": \"scatter\", \"x\": [1, 2, 3, 4], \"y\": [4, 3, 2, 1]}], {\"title\": \"hello world\"}, {\"showLink\": true, \"linkText\": \"Export to plot.ly\"})});</script>"
      ],
      "text/vnd.plotly.v1+html": [
       "<div id=\"c28f6b81-8e41-4349-9498-7ca1c6b84ff8\" style=\"height: 525px; width: 100%;\" class=\"plotly-graph-div\"></div><script type=\"text/javascript\">require([\"plotly\"], function(Plotly) { window.PLOTLYENV=window.PLOTLYENV || {};window.PLOTLYENV.BASE_URL=\"https://plot.ly\";Plotly.newPlot(\"c28f6b81-8e41-4349-9498-7ca1c6b84ff8\", [{\"type\": \"scatter\", \"x\": [1, 2, 3, 4], \"y\": [4, 3, 2, 1]}], {\"title\": \"hello world\"}, {\"showLink\": true, \"linkText\": \"Export to plot.ly\"})});</script>"
      ]
     },
     "metadata": {},
     "output_type": "display_data"
    }
   ],
   "source": [
    "plotly.offline.iplot({\n",
    "    \"data\": [go.Scatter(\n",
    "        x=[1, 2, 3, 4],\n",
    "        y=[4, 3, 2, 1]\n",
    "    )],\n",
    "    \"layout\": go.Layout(\n",
    "        title=\"hello world\"\n",
    "    )\n",
    "})"
   ]
  },
  {
   "cell_type": "markdown",
   "metadata": {},
   "source": [
    "Now let's plot a time series of GDP per capita for a variety of user-selected countries. We'll start with Australia and New Zealand."
   ]
  },
  {
   "cell_type": "code",
   "execution_count": 10,
   "metadata": {
    "collapsed": true
   },
   "outputs": [],
   "source": [
    "# user input\n",
    "country_values = [\"Australia\", \"New Zealand\"]"
   ]
  },
  {
   "cell_type": "code",
   "execution_count": 16,
   "metadata": {
    "collapsed": false
   },
   "outputs": [
    {
     "data": {
      "application/vnd.plotly.v1+json": {
       "data": [
        {
         "marker": {
          "line": {
           "color": "white",
           "width": 0.5
          },
          "opacity": 0.5,
          "size": 15
         },
         "mode": "lines+markers",
         "name": "Australia",
         "text": "Continent: Oceania",
         "type": "scatter",
         "x": [
          1952,
          1957,
          1962,
          1967,
          1972,
          1977,
          1982,
          1987,
          1992,
          1997,
          2002,
          2007
         ],
         "y": [
          10039.595640000001,
          10949.64959,
          12217.226859999999,
          14526.12465,
          16788.62948,
          18334.197509999998,
          19477.009280000002,
          21888.889030000002,
          23424.76683,
          26997.936569999998,
          30687.75473,
          34435.367439999995
         ]
        },
        {
         "marker": {
          "line": {
           "color": "white",
           "width": 0.5
          },
          "opacity": 0.5,
          "size": 15
         },
         "mode": "lines+markers",
         "name": "New Zealand",
         "text": "Continent: Oceania",
         "type": "scatter",
         "x": [
          1952,
          1957,
          1962,
          1967,
          1972,
          1977,
          1982,
          1987,
          1992,
          1997,
          2002,
          2007
         ],
         "y": [
          10556.575659999999,
          12247.39532,
          13175.678,
          14463.918930000002,
          16046.03728,
          16233.7177,
          17632.4104,
          19007.19129,
          18363.324940000002,
          21050.41377,
          23189.80135,
          25185.00911
         ]
        }
       ],
       "layout": {
        "hovermode": "closest",
        "margin": {
         "b": 50,
         "l": 60,
         "r": 0,
         "t": 10
        },
        "xaxis": {
         "title": "Year"
        },
        "yaxis": {
         "title": "GDP Per Capita"
        }
       }
      },
      "text/html": [
       "<div id=\"60941f77-9f01-4b34-a05c-b6df7dea837b\" style=\"height: 525px; width: 100%;\" class=\"plotly-graph-div\"></div><script type=\"text/javascript\">require([\"plotly\"], function(Plotly) { window.PLOTLYENV=window.PLOTLYENV || {};window.PLOTLYENV.BASE_URL=\"https://plot.ly\";Plotly.newPlot(\"60941f77-9f01-4b34-a05c-b6df7dea837b\", [{\"type\": \"scatter\", \"x\": [1952, 1957, 1962, 1967, 1972, 1977, 1982, 1987, 1992, 1997, 2002, 2007], \"y\": [10039.595640000001, 10949.64959, 12217.226859999999, 14526.12465, 16788.62948, 18334.197509999998, 19477.009280000002, 21888.889030000002, 23424.76683, 26997.936569999998, 30687.75473, 34435.367439999995], \"text\": \"Continent: Oceania\", \"mode\": \"lines+markers\", \"name\": \"Australia\", \"marker\": {\"size\": 15, \"opacity\": 0.5, \"line\": {\"width\": 0.5, \"color\": \"white\"}}}, {\"type\": \"scatter\", \"x\": [1952, 1957, 1962, 1967, 1972, 1977, 1982, 1987, 1992, 1997, 2002, 2007], \"y\": [10556.575659999999, 12247.39532, 13175.678, 14463.918930000002, 16046.03728, 16233.7177, 17632.4104, 19007.19129, 18363.324940000002, 21050.41377, 23189.80135, 25185.00911], \"text\": \"Continent: Oceania\", \"mode\": \"lines+markers\", \"name\": \"New Zealand\", \"marker\": {\"size\": 15, \"opacity\": 0.5, \"line\": {\"width\": 0.5, \"color\": \"white\"}}}], {\"xaxis\": {\"title\": \"Year\"}, \"yaxis\": {\"title\": \"GDP Per Capita\"}, \"margin\": {\"l\": 60, \"b\": 50, \"t\": 10, \"r\": 0}, \"hovermode\": \"closest\"}, {\"showLink\": true, \"linkText\": \"Export to plot.ly\"})});</script>"
      ],
      "text/vnd.plotly.v1+html": [
       "<div id=\"60941f77-9f01-4b34-a05c-b6df7dea837b\" style=\"height: 525px; width: 100%;\" class=\"plotly-graph-div\"></div><script type=\"text/javascript\">require([\"plotly\"], function(Plotly) { window.PLOTLYENV=window.PLOTLYENV || {};window.PLOTLYENV.BASE_URL=\"https://plot.ly\";Plotly.newPlot(\"60941f77-9f01-4b34-a05c-b6df7dea837b\", [{\"type\": \"scatter\", \"x\": [1952, 1957, 1962, 1967, 1972, 1977, 1982, 1987, 1992, 1997, 2002, 2007], \"y\": [10039.595640000001, 10949.64959, 12217.226859999999, 14526.12465, 16788.62948, 18334.197509999998, 19477.009280000002, 21888.889030000002, 23424.76683, 26997.936569999998, 30687.75473, 34435.367439999995], \"text\": \"Continent: Oceania\", \"mode\": \"lines+markers\", \"name\": \"Australia\", \"marker\": {\"size\": 15, \"opacity\": 0.5, \"line\": {\"width\": 0.5, \"color\": \"white\"}}}, {\"type\": \"scatter\", \"x\": [1952, 1957, 1962, 1967, 1972, 1977, 1982, 1987, 1992, 1997, 2002, 2007], \"y\": [10556.575659999999, 12247.39532, 13175.678, 14463.918930000002, 16046.03728, 16233.7177, 17632.4104, 19007.19129, 18363.324940000002, 21050.41377, 23189.80135, 25185.00911], \"text\": \"Continent: Oceania\", \"mode\": \"lines+markers\", \"name\": \"New Zealand\", \"marker\": {\"size\": 15, \"opacity\": 0.5, \"line\": {\"width\": 0.5, \"color\": \"white\"}}}], {\"xaxis\": {\"title\": \"Year\"}, \"yaxis\": {\"title\": \"GDP Per Capita\"}, \"margin\": {\"l\": 60, \"b\": 50, \"t\": 10, \"r\": 0}, \"hovermode\": \"closest\"}, {\"showLink\": true, \"linkText\": \"Export to plot.ly\"})});</script>"
      ]
     },
     "metadata": {},
     "output_type": "display_data"
    }
   ],
   "source": [
    "dff = df.loc[df['country'].isin(country_values)]\n",
    "\n",
    "plotly.offline.iplot({\n",
    "    \"data\": [go.Scatter(\n",
    "            x=dff[dff['country'] == country]['year'],\n",
    "            y=dff[dff['country'] == country]['GDP_per_capita'],\n",
    "            text=\"Continent: \" +\n",
    "                  f\"{dff[dff['country'] == country]['continent'].unique()[0]}\",\n",
    "            mode='lines+markers',\n",
    "            name=country,\n",
    "            marker={\n",
    "                'size': 15,\n",
    "                'opacity': 0.5,\n",
    "                'line': {'width': 0.5, 'color': 'white'}\n",
    "            }\n",
    "        ) for country in dff.country.unique()],\n",
    "    \"layout\": go.Layout(\n",
    "            xaxis={'title': 'Year'},\n",
    "            yaxis={'title': 'GDP Per Capita'},\n",
    "            margin={'l': 60, 'b': 50, 't': 10, 'r': 0},\n",
    "            hovermode='closest'\n",
    "    )\n",
    "})"
   ]
  },
  {
   "cell_type": "markdown",
   "metadata": {},
   "source": [
    "## Putting it into a dash app\n",
    "\n",
    "First we'll talk about the structure of a dash app.\n",
    "\n",
    "[Getting started with dash](https://dash.plot.ly/getting-started), there are three main concepts:\n",
    "\n",
    "* [Layout](https://dash.plot.ly/getting-started)\n",
    "* [Callbacks](https://dash.plot.ly/getting-started-part-2)\n",
    "* [State](https://dash.plot.ly/state)\n",
    "\n",
    "**Layout** define how the app will look, and how the elements are arranged on the screen. \n",
    "\n",
    "**Callbacks** control how user interaction can modify elements (like graphs updating when you move a slider).\n",
    "\n",
    "**State** is analogous to memory, and is useful if the order in which the user performs some actions is important. This is beyond the scope of this talk, but there's more information [here](https://dash.plot.ly/state) if you want to dive in.\n",
    "\n",
    "We'll focus on both layout and callbacks today, so we don't run overtime."
   ]
  },
  {
   "cell_type": "code",
   "execution_count": null,
   "metadata": {
    "collapsed": true
   },
   "outputs": [],
   "source": [
    "# STRUCTURE OF A DASH APP - app.py\n",
    "\n",
    "# imports\n",
    "import pandas as pd\n",
    "import dash\n",
    "import dash_html_components as html\n",
    "import dash_core_components as dcc\n",
    "import plotly.graph_objs as go\n",
    "\n",
    "# load data\n",
    "url = \"https://raw.githubusercontent.com/plotly/datasets/master/gapminderDataFiveYear.csv\"\n",
    "df = pd.read_csv(url)\n",
    "\n",
    "# initialize dash app\n",
    "app = dash.Dash()\n",
    "app.css.append_css({\n",
    "    'external_url': 'https://codepen.io/chriddyp/pen/bWLwgP.css'\n",
    "})\n",
    "\n",
    "# layout\n",
    "# ...\n",
    "\n",
    "# callbacks\n",
    "# ...\n",
    "\n",
    "if __name__ == '__main__':\n",
    "    app.run_server(debug=True)"
   ]
  },
  {
   "cell_type": "markdown",
   "metadata": {},
   "source": [
    "## Layout\n",
    "If you're familiar with html, you'll feel pretty comfy with how to control the layout of a dash app. You can arrange html components (divisions, headings, paragraphs), as well as dash core components (graphs, tables, dropdown boxes, sliders, etc.).\n",
    "\n",
    "Anything you'll need to refer to later must have an id tag. This is how you'll set up the inputs and outputs for callbacks."
   ]
  },
  {
   "cell_type": "code",
   "execution_count": null,
   "metadata": {
    "collapsed": true
   },
   "outputs": [],
   "source": [
    "import dash_html_components as html\n",
    "import dash_core_components as dcc\n",
    "\n",
    "from textwrap import dedent\n",
    "...\n",
    "\n",
    "app.layout = html.Div([\n",
    "    html.H1('A heading!',\n",
    "        id='heading-1'\n",
    "    ),\n",
    "\n",
    "    html.H2('Subheading here'\n",
    "        id='subheading-1'\n",
    "    ),\n",
    "\n",
    "    dcc.Markdown(dedent(\"\"\"\n",
    "    ## Markdown is supported by dash, too\n",
    "    If you prefer writing markdown over writing text in html,\n",
    "    the dash core components support that too.\n",
    "    \n",
    "    > quotes\n",
    "    \n",
    "    ```\n",
    "    code blocks\n",
    "    ```\n",
    "    \"\"\")),\n",
    "\n",
    "    dcc.Graph(id='graph-object'),\n",
    "\n",
    "    dcc.Dropdown(\n",
    "        id='dropdown-1',\n",
    "        options=[{'Option 1': 1, 'Option 2': 2, 'Option 3': 3}],\n",
    "        multi=True, # option to allow multiple selections at once\n",
    "        value=[1]   # option to set the initial value, instead of a blank\n",
    "    )\n",
    "])"
   ]
  },
  {
   "cell_type": "markdown",
   "metadata": {},
   "source": [
    "Let's look at the graph object more closely..."
   ]
  },
  {
   "cell_type": "code",
   "execution_count": null,
   "metadata": {
    "collapsed": true
   },
   "outputs": [],
   "source": [
    "dcc.Graph(id='graph-object')  # right now, there's nothing here"
   ]
  },
  {
   "cell_type": "markdown",
   "metadata": {},
   "source": [
    "We can add the plotly graph for some content. But, this is still static!"
   ]
  },
  {
   "cell_type": "code",
   "execution_count": null,
   "metadata": {
    "collapsed": true
   },
   "outputs": [],
   "source": [
    "dcc.Graph(id='graph-object',\n",
    "    \"data\": [go.Scatter(\n",
    "            x=dff[dff['country'] == country]['year'],\n",
    "            y=dff[dff['country'] == country]['GDP_per_capita'],\n",
    "            text=\"Continent: \" +\n",
    "                  f\"{dff[dff['country'] == country]['continent'].unique()[0]}\",\n",
    "            mode='lines+markers',\n",
    "            name=country,\n",
    "            marker={\n",
    "                'size': 15,\n",
    "                'opacity': 0.5,\n",
    "                'line': {'width': 0.5, 'color': 'white'}\n",
    "            }\n",
    "        ) for country in dff.country.unique()],\n",
    "    \"layout\": go.Layout(\n",
    "            xaxis={'title': 'Year'},\n",
    "            yaxis={'title': 'GDP Per Capita'},\n",
    "            margin={'l': 60, 'b': 50, 't': 10, 'r': 0},\n",
    "            hovermode='closest'\n",
    "    )\n",
    "})"
   ]
  },
  {
   "cell_type": "markdown",
   "metadata": {},
   "source": [
    "## Callbacks\n",
    "Since we want user interactivity for our graph, we need to implement a callback. This means shifting the plotly graph *out* of the layout, and into the callback section.\n",
    "\n",
    "A refresher:"
   ]
  },
  {
   "cell_type": "code",
   "execution_count": null,
   "metadata": {
    "collapsed": true
   },
   "outputs": [],
   "source": [
    "# STRUCTURE OF A DASH APP - app.py\n",
    "# imports\n",
    "import pandas as pd\n",
    "import dash\n",
    "import dash_html_components as html\n",
    "import dash_core_components as dcc\n",
    "import plotly.graph_objs as go\n",
    "\n",
    "# load data\n",
    "url = \"https://raw.githubusercontent.com/plotly/datasets/master/gapminderDataFiveYear.csv\"\n",
    "df = pd.read_csv(url)\n",
    "\n",
    "# initialize dash app\n",
    "app = dash.Dash()\n",
    "app.css.append_css({\n",
    "    'external_url': 'https://codepen.io/chriddyp/pen/bWLwgP.css'\n",
    "})\n",
    "\n",
    "# layout\n",
    "app.layout = html.Div([\n",
    "    html.H1('Dash App Basics', id='heading-1'),\n",
    "    dcc.Markdown(\"\")\n",
    "    dcc.Dropdown(\n",
    "        id='dropdown-1',\n",
    "        options=[{'Option 1': 1, 'Option 2': 2, 'Option 3': 3}],\n",
    "        multi=True, # option to allow multiple selections at once\n",
    "        value=[1]   # option to set the initial value, instead of a blank\n",
    "    )\n",
    "    dcc.Graph(id='graph-object') \n",
    "    \n",
    "# callbacks\n",
    "# Take input drom dcc.Dropdown, and return a changed output to dcc.Graph\n",
    "\n",
    "if __name__ == '__main__':\n",
    "    app.run_server(debug=True)"
   ]
  },
  {
   "cell_type": "markdown",
   "metadata": {},
   "source": [
    "To create a callback, we decorate the app function:"
   ]
  },
  {
   "cell_type": "code",
   "execution_count": null,
   "metadata": {
    "collapsed": true
   },
   "outputs": [],
   "source": [
    "@app.callback(\n",
    "    dash.dependencies.Output('graph-object', 'figure'),\n",
    "    [dash.dependencies.Input('dropdown-1', 'value')])\n",
    "def update_graph(input_values):\n",
    "    # create updated graph here \n",
    "    return updated_graph\n"
   ]
  },
  {
   "cell_type": "markdown",
   "metadata": {},
   "source": [
    "There can be multiple inputs into any one callback function."
   ]
  },
  {
   "cell_type": "code",
   "execution_count": null,
   "metadata": {
    "collapsed": true
   },
   "outputs": [],
   "source": [
    "@app.callback(\n",
    "    dash.dependencies.Output('graph-object', 'figure'),\n",
    "    [dash.dependencies.Input('dropdown-1', 'value')])\n",
    "def update_graph(country_values):\n",
    "    dff = df.loc[df['country'].isin(country_values)]\n",
    "    return {\n",
    "        'data': [go.Scatter(\n",
    "            x=dff[dff['country'] == country]['year'],\n",
    "            y=dff[dff['country'] == country]['GDP_per_capita'],\n",
    "            text=\"Continent: \" +\n",
    "                  f\"{dff[dff['country'] == country]['continent'].unique()[0]}\",\n",
    "            mode='lines+markers',\n",
    "            name=country,\n",
    "            marker={\n",
    "                'size': 15,\n",
    "                'opacity': 0.5,\n",
    "                'line': {'width': 0.5, 'color': 'white'}\n",
    "            }\n",
    "        ) for country in dff.country.unique()],\n",
    "        'layout': go.Layout(\n",
    "            xaxis={'title': 'Year'},\n",
    "            yaxis={'title': 'GDP Per Capita'},\n",
    "            margin={'l': 60, 'b': 50, 't': 10, 'r': 0},\n",
    "            hovermode='closest'\n",
    "        )\n",
    "    }"
   ]
  },
  {
   "cell_type": "markdown",
   "metadata": {},
   "source": [
    "# Running the app locally\n",
    "\n",
    "To launch the dash app locally, run the python script. This will trigger the app.run_server command in main, since we had...\n",
    "```\n",
    "if __name__ == '__main__':\n",
    "    app.run_server(debug=True) \n",
    "```\n",
    "\n",
    "At the terminal, type:\n",
    "`$ python app.py`\n",
    "\n",
    "You should see something like:\n",
    "```\n",
    "* Running on http://127.0.0.1:8050/ (Press CTRL+C to quit)\n",
    " * Restarting with stat\n",
    " * Debugger is active!\n",
    " * Debugger PIN: 234-967-415\n",
    "```\n",
    "\n",
    "Head to [http://127.0.0.1:8050/](http://127.0.0.1:8050/) to see your app."
   ]
  },
  {
   "cell_type": "markdown",
   "metadata": {},
   "source": [
    "Here are those pieces put together:"
   ]
  },
  {
   "cell_type": "code",
   "execution_count": null,
   "metadata": {
    "collapsed": true
   },
   "outputs": [],
   "source": [
    "import pandas as pd\n",
    "import dash\n",
    "import dash_html_components as html\n",
    "import dash_core_components as dcc\n",
    "import plotly.graph_objs as go\n",
    "from textwrap import dedent\n",
    "\n",
    "# Gapminder dataset GAPMINDER.ORG, CC-BY LICENSE\n",
    "url = \"https://raw.githubusercontent.com/plotly/datasets/master/gapminderDataFiveYear.csv\"\n",
    "df = pd.read_csv(url)\n",
    "df = df.rename(index=str, columns={\"pop\": \"population\",\n",
    "                                   \"lifeExp\": \"life_expectancy\",\n",
    "                                   \"gdpPercap\": \"GDP_per_capita\"})\n",
    "\n",
    "# Dash app\n",
    "app = dash.Dash()\n",
    "app.css.append_css({\n",
    "    'external_url': 'https://codepen.io/chriddyp/pen/bWLwgP.css'\n",
    "})\n",
    "\n",
    "app.layout = html.Div([\n",
    "    html.H1('Dash App Basics',\n",
    "    ),\n",
    "\n",
    "    dcc.Markdown(\"Here's a bare bones look at an example Python Dash app.\"\n",
    "    ),\n",
    "\n",
    "    dcc.Dropdown(\n",
    "        id='country-dropdown',\n",
    "        options=[{'label': i, 'value': i} for i in df.country.unique()],\n",
    "        multi=True,\n",
    "        value=['Australia']\n",
    "    ),\n",
    "\n",
    "    dcc.Graph(id='timeseries-graph')\n",
    "\n",
    "])\n",
    "\n",
    "@app.callback(\n",
    "    dash.dependencies.Output('timeseries-graph', 'figure'),\n",
    "    [dash.dependencies.Input('country-dropdown', 'value')])\n",
    "def update_graph(country_values):\n",
    "    dff = df.loc[df['country'].isin(country_values)]\n",
    "\n",
    "    return {\n",
    "        'data': [go.Scatter(\n",
    "            x=dff[dff['country'] == country]['year'],\n",
    "            y=dff[dff['country'] == country]['GDP_per_capita'],\n",
    "            text=\"Continent: \" +\n",
    "                  f\"{dff[dff['country'] == country]['continent'].unique()[0]}\",\n",
    "            mode='lines+markers',\n",
    "            name=country,\n",
    "            marker={\n",
    "                'size': 15,\n",
    "                'opacity': 0.5,\n",
    "                'line': {'width': 0.5, 'color': 'white'}\n",
    "            }\n",
    "        ) for country in dff.country.unique()],\n",
    "        'layout': go.Layout(\n",
    "            title=\"GDP over time, by country\",\n",
    "            xaxis={'title': 'Year'},\n",
    "            yaxis={'title': 'GDP Per Capita'},\n",
    "            margin={'l': 60, 'b': 50, 't': 80, 'r': 0},\n",
    "            hovermode='closest'\n",
    "        )\n",
    "    }\n",
    "\n",
    "if __name__ == '__main__':\n",
    "    app.run_server(debug=True)\n"
   ]
  },
  {
   "cell_type": "markdown",
   "metadata": {
    "collapsed": false
   },
   "source": [
    "![](images/DashAppScreenshot1.png)"
   ]
  },
  {
   "cell_type": "markdown",
   "metadata": {},
   "source": [
    "## Adding more features\n",
    "You can add more graphs, tables, and dropdowns or sliders for callbacks.\n",
    "\n",
    "You can see the list of available components here:\n",
    "\n",
    "* [Dash core components](https://dash.plot.ly/dash-core-components)\n",
    "* [HTML components](https://dash.plot.ly/dash-html-components)\n",
    "\n",
    "Let's add a table, and another graph to our Dash app. Now the app.py file looks like this:"
   ]
  },
  {
   "cell_type": "code",
   "execution_count": null,
   "metadata": {
    "collapsed": true
   },
   "outputs": [],
   "source": [
    "import pandas as pd\n",
    "import dash\n",
    "import dash_html_components as html\n",
    "import dash_core_components as dcc\n",
    "import plotly.graph_objs as go\n",
    "from textwrap import dedent\n",
    "\n",
    "# Gapminder dataset GAPMINDER.ORG, CC-BY LICENSE\n",
    "url = \"https://raw.githubusercontent.com/plotly/datasets/master/gapminderDataFiveYear.csv\"\n",
    "df = pd.read_csv(url)\n",
    "df = df.rename(index=str, columns={\"pop\": \"population\",\n",
    "                                   \"lifeExp\": \"life_expectancy\",\n",
    "                                   \"gdpPercap\": \"GDP_per_capita\"})\n",
    "\n",
    "# Utility functions\n",
    "def generate_table(dataframe, max_rows=10):\n",
    "    return html.Table(\n",
    "        # Header\n",
    "        [html.Tr([html.Th(col) for col in dataframe.columns])] +\n",
    "\n",
    "        # Body\n",
    "        [html.Tr([\n",
    "            html.Td(dataframe.iloc[i][col]) for col in dataframe.columns\n",
    "        ]) for i in range(min(len(dataframe), max_rows))]\n",
    "    )\n",
    "\n",
    "# Dash app\n",
    "app = dash.Dash()\n",
    "app.css.append_css({\n",
    "    'external_url': 'https://codepen.io/chriddyp/pen/bWLwgP.css'\n",
    "})\n",
    "\n",
    "app.layout = html.Div([\n",
    "    html.H1('Dash App Basics',\n",
    "    ),\n",
    "\n",
    "    dcc.Markdown(dedent('''\n",
    "    ## What is dash?\n",
    "    [Dash](https://dash.plot.ly/)\n",
    "    is a python framework for building simple web apps.\n",
    "\n",
    "    It combines:\n",
    "\n",
    "    * [Plotly](https://plot.ly/) for interactive graphs\n",
    "    * [Flask](http://flask.pocoo.org/) for the web framework\n",
    "    * [React](https://reactjs.org/) for the javascript user interface\n",
    "\n",
    "    Here's a bare bones look at an example Python Dash app.\n",
    "    ''')\n",
    "    ),\n",
    "\n",
    "    html.H2(\"The Gapminder dataset\"),\n",
    "    dcc.Markdown(dedent('''\n",
    "    The dataset used here is based on free material from\n",
    "    [GAPMINDER.ORG](https://www.gapminder.org/data/), CC-BY LICENSE.\n",
    "\n",
    "    Let's take a look at the dataset...\n",
    "    ''')\n",
    "    ),\n",
    "    dcc.Markdown(dedent('''\n",
    "    ```\n",
    "    import pandas as pd\n",
    "    url = \"https://raw.githubusercontent.com/plotly/datasets/master/\" +\n",
    "          \"gapminderDataFiveYear.csv\"\n",
    "    df = pd.read_csv(url)\n",
    "    df = df.rename(index=str, columns={\"pop\": \"population\",\n",
    "                                       \"lifeExp\": \"life_expectancy\",\n",
    "                                       \"gdpPercap\": \"GDP_per_capita\"})\n",
    "    df.sample(5)\n",
    "    ```\n",
    "    ''')\n",
    "    ),\n",
    "    generate_table(df.sample(5)),\n",
    "\n",
    "    dcc.Dropdown(\n",
    "        id='country-dropdown',\n",
    "        options=[{'label': i, 'value': i} for i in df.country.unique()],\n",
    "        multi=True,\n",
    "        value=['Australia']\n",
    "    ),\n",
    "    dcc.Graph(id='timeseries-graph'),\n",
    "\n",
    "    dcc.Graph(id='graph-with-slider'),\n",
    "    dcc.Slider(\n",
    "        id='year-slider',\n",
    "        min=df['year'].min(),\n",
    "        max=df['year'].max(),\n",
    "        value=df['year'].min(),\n",
    "        step=None,\n",
    "        marks={str(year): str(year) for year in df['year'].unique()}\n",
    "    )\n",
    "\n",
    "])\n",
    "\n",
    "@app.callback(\n",
    "    dash.dependencies.Output('timeseries-graph', 'figure'),\n",
    "    [dash.dependencies.Input('country-dropdown', 'value')])\n",
    "def update_graph(country_values):\n",
    "    dff = df.loc[df['country'].isin(country_values)]\n",
    "\n",
    "    return {\n",
    "        'data': [go.Scatter(\n",
    "            x=dff[dff['country'] == country]['year'],\n",
    "            y=dff[dff['country'] == country]['GDP_per_capita'],\n",
    "            text=\"Continent: \" +\n",
    "                  f\"{dff[dff['country'] == country]['continent'].unique()[0]}\",\n",
    "            mode='lines+markers',\n",
    "            name=country,\n",
    "            marker={\n",
    "                'size': 15,\n",
    "                'opacity': 0.5,\n",
    "                'line': {'width': 0.5, 'color': 'white'}\n",
    "            }\n",
    "        ) for country in dff.country.unique()],\n",
    "        'layout': go.Layout(\n",
    "            title=\"GDP over time, by country\",\n",
    "            xaxis={'title': 'Year'},\n",
    "            yaxis={'title': 'GDP Per Capita'},\n",
    "            margin={'l': 60, 'b': 50, 't': 80, 'r': 0},\n",
    "            hovermode='closest'\n",
    "        )\n",
    "    }\n",
    "\n",
    "@app.callback(\n",
    "    dash.dependencies.Output('graph-with-slider', 'figure'),\n",
    "    [dash.dependencies.Input('year-slider', 'value')])\n",
    "def update_figure(selected_year):\n",
    "    filtered_df = df[df.year == selected_year]\n",
    "    traces = []\n",
    "    for i in filtered_df.continent.unique():\n",
    "        df_by_continent = filtered_df[filtered_df['continent'] == i]\n",
    "        traces.append(go.Scatter(\n",
    "            x=df_by_continent['GDP_per_capita'],\n",
    "            y=df_by_continent['life_expectancy'],\n",
    "            text=df_by_continent['country'],\n",
    "            mode='markers',\n",
    "            opacity=0.7,\n",
    "            marker={\n",
    "                'size': 15,\n",
    "                'line': {'width': 0.5, 'color': 'white'}\n",
    "            },\n",
    "            name=i\n",
    "        ))\n",
    "\n",
    "    return {\n",
    "        'data': traces,\n",
    "        'layout': go.Layout(\n",
    "            title=\"Correlation between GDP and life expectancy\",\n",
    "            xaxis={'type': 'log', 'title': 'GDP Per Capita'},\n",
    "            yaxis={'title': 'Life Expectancy', 'range': [20, 90]},\n",
    "            margin={'l': 40, 'b': 40, 't': 150, 'r': 10},\n",
    "            legend={'x': 0, 'y': 1},\n",
    "            hovermode='closest'\n",
    "        )\n",
    "    }\n",
    "\n",
    "if __name__ == '__main__':\n",
    "    app.run_server(debug=True)\n"
   ]
  },
  {
   "cell_type": "markdown",
   "metadata": {
    "collapsed": false
   },
   "source": [
    "![](images/DashAppScreenshot2.png)"
   ]
  },
  {
   "cell_type": "markdown",
   "metadata": {},
   "source": [
    "## Sharing your dash app publically\n",
    "\n",
    "Later, you'll want to share your app with the world!\n",
    "\n",
    "There are a number of ways you can do that, one of which is to sign up to a free plan with [Heroku](https://www.heroku.com/).\n",
    "\n",
    "Check out this template to get yourself up and running: \n",
    "https://github.com/plotly/dash-heroku-template\n"
   ]
  },
  {
   "cell_type": "markdown",
   "metadata": {},
   "source": [
    "## Dash apps in the wild\n",
    "\n",
    "Here's some inspiration for you: [7 New Dash Apps Made by the Dash Community](https://medium.com/@plotlygraphs/7-new-dash-apps-made-by-the-dash-community-196998112ce3)"
   ]
  },
  {
   "cell_type": "markdown",
   "metadata": {},
   "source": [
    "### Traffidc Accidents in the UK\n",
    "\n",
    "This dash app is hosted with Heroku, and shows patterns in the statistics of UK traffic accidents.\n",
    "https://traffic-accidents-uk.herokuapp.com/"
   ]
  },
  {
   "cell_type": "markdown",
   "metadata": {
    "collapsed": false
   },
   "source": [
    "![](images/UK-traffic-accidents.png)"
   ]
  },
  {
   "cell_type": "markdown",
   "metadata": {},
   "source": [
    "### Wind Speed Streaming\n",
    "\n",
    "This dash app polls a SQL server at regular intervals to show you real-time streaming data of wind speed measurements. The whole thing is built with only a couple of hundred lines of Python.\n",
    "\n",
    "https://dash-live-wind-data.plot.ly/\n",
    "\n",
    "[Source code here](https://github.com/plotly/dash-wind-streaming)"
   ]
  },
  {
   "cell_type": "code",
   "execution_count": 4,
   "metadata": {
    "collapsed": false
   },
   "outputs": [
    {
     "data": {
      "text/html": [
       "<img src=\"images/dash-wind-streaming.gif\">"
      ],
      "text/plain": [
       "<IPython.core.display.HTML object>"
      ]
     },
     "execution_count": 4,
     "metadata": {},
     "output_type": "execute_result"
    }
   ],
   "source": [
    "from IPython.core.display import HTML\n",
    "HTML('<img src=\"images/dash-wind-streaming.gif\">')"
   ]
  },
  {
   "cell_type": "markdown",
   "metadata": {},
   "source": [
    "## Now go forth, and have fun with dash!\n",
    "\n",
    "Here are those useful resource links again:\n",
    "\n",
    "* [Dash user guide](https://dash.plot.ly/)\n",
    "* [Some datasets to play with](https://github.com/plotly/dash-app-datasets)\n",
    "* [Graphing with Plotly](https://plot.ly/python/)\n",
    "* [Heroku dash app template](https://github.com/plotly/dash-heroku-template)\n",
    "\n",
    "Remember to come back and share with us what you build!"
   ]
  }
 ],
 "metadata": {
  "anaconda-cloud": {},
  "kernelspec": {
   "display_name": "Python [default]",
   "language": "python",
   "name": "python3"
  },
  "language_info": {
   "codemirror_mode": {
    "name": "ipython",
    "version": 3
   },
   "file_extension": ".py",
   "mimetype": "text/x-python",
   "name": "python",
   "nbconvert_exporter": "python",
   "pygments_lexer": "ipython3",
   "version": "3.5.2"
  }
 },
 "nbformat": 4,
 "nbformat_minor": 2
}
